{
 "cells": [
  {
   "cell_type": "code",
   "execution_count": 1,
   "id": "42c93be3-5e66-4cb8-8914-de0284d9e900",
   "metadata": {},
   "outputs": [],
   "source": [
    "from dotenv import load_dotenv\n",
    "import os"
   ]
  },
  {
   "cell_type": "code",
   "execution_count": 6,
   "id": "2be17dc1-0bc3-4871-b083-a4ce44cd01c4",
   "metadata": {},
   "outputs": [],
   "source": [
    "load_dotenv('../.env')\n",
    "\n",
    "FOOTBALL_API_TOKEN=os.getenv('FOOTBALL_API_TOKEN')"
   ]
  },
  {
   "cell_type": "code",
   "execution_count": 8,
   "id": "12637622-f5c5-4f88-b9c3-b95daa4305e1",
   "metadata": {},
   "outputs": [],
   "source": [
    "import http.client\n",
    "\n",
    "conn = http.client.HTTPSConnection(\"v3.football.api-sports.io\")\n",
    "\n",
    "headers = {\n",
    "    'x-rapidapi-host': \"v3.football.api-sports.io\",\n",
    "    'x-rapidapi-key': FOOTBALL_API_TOKEN,\n",
    "    }\n",
    "\n",
    "conn.request(\"GET\", \"/teams?id=33\", headers=headers)\n",
    "\n",
    "res = conn.getresponse()\n",
    "data = res.read()\n"
   ]
  },
  {
   "cell_type": "code",
   "execution_count": 9,
   "id": "272d6f41-a410-4953-90fd-2d508c8adb91",
   "metadata": {},
   "outputs": [
    {
     "data": {
      "text/plain": [
       "b'{\"get\":\"teams\",\"parameters\":{\"id\":\"33\"},\"errors\":[],\"results\":1,\"paging\":{\"current\":1,\"total\":1},\"response\":[{\"team\":{\"id\":33,\"name\":\"Manchester United\",\"code\":\"MUN\",\"country\":\"England\",\"founded\":1878,\"national\":false,\"logo\":\"https:\\\\/\\\\/media.api-sports.io\\\\/football\\\\/teams\\\\/33.png\"},\"venue\":{\"id\":556,\"name\":\"Old Trafford\",\"address\":\"Sir Matt Busby Way\",\"city\":\"Manchester\",\"capacity\":76212,\"surface\":\"grass\",\"image\":\"https:\\\\/\\\\/media.api-sports.io\\\\/football\\\\/venues\\\\/556.png\"}}]}'"
      ]
     },
     "execution_count": 9,
     "metadata": {},
     "output_type": "execute_result"
    }
   ],
   "source": [
    "data"
   ]
  }
 ],
 "metadata": {
  "kernelspec": {
   "display_name": "Python 3 (ipykernel)",
   "language": "python",
   "name": "python3"
  },
  "language_info": {
   "codemirror_mode": {
    "name": "ipython",
    "version": 3
   },
   "file_extension": ".py",
   "mimetype": "text/x-python",
   "name": "python",
   "nbconvert_exporter": "python",
   "pygments_lexer": "ipython3",
   "version": "3.12.4"
  }
 },
 "nbformat": 4,
 "nbformat_minor": 5
}
